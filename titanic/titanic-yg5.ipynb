{
 "cells": [
  {
   "cell_type": "code",
   "execution_count": 1,
   "id": "ae61a9b1",
   "metadata": {
    "_cell_guid": "b1076dfc-b9ad-4769-8c92-a6c4dae69d19",
    "_uuid": "8f2839f25d086af736a60e9eeb907d3b93b6e0e5",
    "execution": {
     "iopub.execute_input": "2022-01-19T04:05:00.196063Z",
     "iopub.status.busy": "2022-01-19T04:05:00.194931Z",
     "iopub.status.idle": "2022-01-19T04:05:00.210804Z",
     "shell.execute_reply": "2022-01-19T04:05:00.211349Z",
     "shell.execute_reply.started": "2022-01-19T03:31:39.105467Z"
    },
    "papermill": {
     "duration": 0.050001,
     "end_time": "2022-01-19T04:05:00.211712",
     "exception": false,
     "start_time": "2022-01-19T04:05:00.161711",
     "status": "completed"
    },
    "tags": []
   },
   "outputs": [
    {
     "name": "stdout",
     "output_type": "stream",
     "text": [
      "/kaggle/input/titanic/train.csv\n",
      "/kaggle/input/titanic/test.csv\n",
      "/kaggle/input/titanic/gender_submission.csv\n"
     ]
    }
   ],
   "source": [
    "import numpy as np # linear algebra\n",
    "import pandas as pd # data processing, CSV file I/O (e.g. pd.read_csv)\n",
    "import os\n",
    "for dirname, _, filenames in os.walk('/kaggle/input'):\n",
    "    for filename in filenames:\n",
    "        print(os.path.join(dirname, filename))\n"
   ]
  },
  {
   "cell_type": "code",
   "execution_count": 2,
   "id": "03836e12",
   "metadata": {
    "execution": {
     "iopub.execute_input": "2022-01-19T04:05:00.271485Z",
     "iopub.status.busy": "2022-01-19T04:05:00.270826Z",
     "iopub.status.idle": "2022-01-19T04:05:00.306322Z",
     "shell.execute_reply": "2022-01-19T04:05:00.306869Z",
     "shell.execute_reply.started": "2022-01-19T03:31:40.995616Z"
    },
    "papermill": {
     "duration": 0.06801,
     "end_time": "2022-01-19T04:05:00.307078",
     "exception": false,
     "start_time": "2022-01-19T04:05:00.239068",
     "status": "completed"
    },
    "tags": []
   },
   "outputs": [],
   "source": [
    "df = pd.read_csv(\"/kaggle/input/titanic/train.csv\")\n",
    "test = pd.read_csv(\"/kaggle/input/titanic/test.csv\")\n",
    "gender_submission = pd.read_csv(\"/kaggle/input/titanic/gender_submission.csv\")"
   ]
  },
  {
   "cell_type": "code",
   "execution_count": 3,
   "id": "dc7b1133",
   "metadata": {
    "execution": {
     "iopub.execute_input": "2022-01-19T04:05:00.365121Z",
     "iopub.status.busy": "2022-01-19T04:05:00.364268Z",
     "iopub.status.idle": "2022-01-19T04:05:00.372681Z",
     "shell.execute_reply": "2022-01-19T04:05:00.373234Z",
     "shell.execute_reply.started": "2022-01-19T04:01:55.233092Z"
    },
    "papermill": {
     "duration": 0.039084,
     "end_time": "2022-01-19T04:05:00.373410",
     "exception": false,
     "start_time": "2022-01-19T04:05:00.334326",
     "status": "completed"
    },
    "tags": []
   },
   "outputs": [],
   "source": [
    "test1 = pd.read_csv(\"/kaggle/input/titanic/test.csv\")"
   ]
  },
  {
   "cell_type": "code",
   "execution_count": 4,
   "id": "ecba9237",
   "metadata": {
    "execution": {
     "iopub.execute_input": "2022-01-19T04:05:00.433639Z",
     "iopub.status.busy": "2022-01-19T04:05:00.432855Z",
     "iopub.status.idle": "2022-01-19T04:05:01.695918Z",
     "shell.execute_reply": "2022-01-19T04:05:01.695185Z",
     "shell.execute_reply.started": "2022-01-19T03:31:42.640280Z"
    },
    "papermill": {
     "duration": 1.295778,
     "end_time": "2022-01-19T04:05:01.696105",
     "exception": false,
     "start_time": "2022-01-19T04:05:00.400327",
     "status": "completed"
    },
    "tags": []
   },
   "outputs": [],
   "source": [
    "from sklearn.model_selection import train_test_split, StratifiedKFold, GridSearchCV\n",
    "from sklearn.experimental import enable_iterative_imputer\n",
    "from sklearn.impute import IterativeImputer\n",
    "from sklearn.ensemble import RandomForestRegressor, RandomForestClassifier\n",
    "from sklearn.linear_model import LogisticRegression\n",
    "from sklearn.tree import DecisionTreeClassifier\n",
    "from sklearn.svm import SVC\n",
    "from sklearn.naive_bayes import GaussianNB\n",
    "from sklearn.preprocessing import StandardScaler\n",
    "from sklearn.neighbors import KNeighborsClassifier"
   ]
  },
  {
   "cell_type": "code",
   "execution_count": 5,
   "id": "892c3133",
   "metadata": {
    "execution": {
     "iopub.execute_input": "2022-01-19T04:05:01.766379Z",
     "iopub.status.busy": "2022-01-19T04:05:01.761089Z",
     "iopub.status.idle": "2022-01-19T04:05:01.781149Z",
     "shell.execute_reply": "2022-01-19T04:05:01.780584Z",
     "shell.execute_reply.started": "2022-01-19T03:31:44.405385Z"
    },
    "papermill": {
     "duration": 0.057511,
     "end_time": "2022-01-19T04:05:01.781313",
     "exception": false,
     "start_time": "2022-01-19T04:05:01.723802",
     "status": "completed"
    },
    "tags": []
   },
   "outputs": [],
   "source": [
    "def age_class(df):\n",
    "    if df['Age'] < 20:\n",
    "        val = '<20'\n",
    "    elif (df['Age'] >= 20) & (df['Age']< 30):\n",
    "        val = '20-30'\n",
    "    elif (df['Age'] >=30) & (df['Age'] < 40):\n",
    "        val = '30-40'\n",
    "    elif (df['Age'] >=40) & (df['Age'] < 50):\n",
    "        val = '40-50'\n",
    "    elif (df['Age'] >=50) & (df['Age'] < 60):\n",
    "        val = '50-60'\n",
    "    elif df['Age'] > 60:\n",
    "        val = '>60'\n",
    "    else:\n",
    "        val = 999  # to denote iregular value like NaN\n",
    "    return val\n",
    "\n",
    "def fare_seg(df):\n",
    "    if df['Fare'] < 100:\n",
    "        val = '<100'\n",
    "    elif (df['Fare'] >= 100) & (df['Fare']< 200):\n",
    "        val = '100-200'\n",
    "    elif (df['Fare'] >=200) & (df['Fare'] < 300):\n",
    "        val = '200-300'\n",
    "    else:\n",
    "        val = '>300'\n",
    "    return val\n",
    "\n",
    "def missing_df(train):\n",
    "    missing_df = pd.DataFrame(columns = ['Feature', 'dtype', 'Missing Values', '%age missing'])\n",
    "    print('missing values in these columns:')\n",
    "    for i in train.columns:\n",
    "        if train[i].isnull().sum() != 0:\n",
    "            temp_df = pd.DataFrame([[i,\n",
    "                                     train[i].dtype,\n",
    "                                     train[i].isnull().sum(), \n",
    "                                     round(train[i].isnull().sum()/len(train), 2)\n",
    "                                    ]], \n",
    "                                   columns = ['Feature', 'dtype', 'Missing Values', '%age missing'])\n",
    "            missing_df = missing_df.append(temp_df, ignore_index = True)\n",
    "    return missing_df\n",
    "\n",
    "def embarked_missing(x_train, x_test = None):\n",
    "\n",
    "    x_train['age_grp'] = x_train.apply(age_class, axis = 1)\n",
    "    x_train['fare_grp'] = x_train.apply(fare_seg, axis = 1)\n",
    "\n",
    "    try:\n",
    "        x_test['age_grp'] = x_test.apply(age_class, axis = 1)\n",
    "        x_test['fare_grp'] = x_test.apply(fare_seg, axis = 1)\n",
    "\n",
    "        miss_val = x_test[x_test.Embarked.isnull()]  #now filling values in test dataset\n",
    "\n",
    "        for i in miss_val.index:\n",
    "            x = x_train[(x_train.Sex == miss_val.loc[i,'Sex']) &  #sex\n",
    "                    (x_train.Pclass == miss_val.loc[i,'Pclass']) &  #plcass\n",
    "                    (x_train.fare_grp == miss_val.loc[i,'fare_grp'])].Embarked.mode()\n",
    "            x_test.loc[i,'Embarked'] = x[0]\n",
    "        \n",
    "        x_test.drop(['age_grp', 'fare_grp'], axis = 1, inplace = True)\n",
    "        \n",
    "    except:\n",
    "        pass\n",
    "        \n",
    "    miss_val = x_train[x_train.Embarked.isnull()]  #assigning x_train missing indices\n",
    "\n",
    "    for i in miss_val.index:\n",
    "        x = x_train[(x_train.Sex == miss_val.loc[i,'Sex']) &  #sex\n",
    "                (x_train.Pclass == miss_val.loc[i,'Pclass']) &  #plcass\n",
    "                (x_train.fare_grp == miss_val.loc[i,'fare_grp'])].Embarked.mode() #same fare segment\n",
    "        x_train.loc[i,'Embarked'] = x[0]\n",
    "        \n",
    "    x_train.drop(['age_grp', 'fare_grp'], axis = 1, inplace = True)\n",
    "\n",
    "    return x_train, x_test\n",
    "\n",
    "def age_missing(x_train, x_test = None):\n",
    "    \n",
    "    rf = RandomForestRegressor()\n",
    "    imputer = IterativeImputer(estimator= rf)\n",
    "    \n",
    "    x_train_dummy = pd.get_dummies(x_train, columns=['Embarked', 'Sex'])\n",
    "    x_train_dummy.drop(['Embarked_C', 'Sex_female'], 1, inplace = True)\n",
    "\n",
    "    x_train_np = imputer.fit_transform(x_train_dummy)\n",
    "    x_train['Age'] = x_train_np[:,1]\n",
    "    \n",
    "    try:\n",
    "        x_test_dummy = pd.get_dummies(x_test, columns=['Embarked', 'Sex'])\n",
    "        x_test_dummy.drop(['Embarked_C', 'Sex_female'], 1, inplace = True)\n",
    "        x_test_np = imputer.transform(x_test_dummy)\n",
    "        x_test['Age'] = x_test_np[:,1]\n",
    "\n",
    "    except:\n",
    "        pass\n",
    "\n",
    "    return x_train, x_test\n"
   ]
  },
  {
   "cell_type": "code",
   "execution_count": 6,
   "id": "4f66c68b",
   "metadata": {
    "execution": {
     "iopub.execute_input": "2022-01-19T04:05:01.837379Z",
     "iopub.status.busy": "2022-01-19T04:05:01.836778Z",
     "iopub.status.idle": "2022-01-19T04:05:01.855252Z",
     "shell.execute_reply": "2022-01-19T04:05:01.854662Z",
     "shell.execute_reply.started": "2022-01-19T03:31:48.053082Z"
    },
    "papermill": {
     "duration": 0.047559,
     "end_time": "2022-01-19T04:05:01.855395",
     "exception": false,
     "start_time": "2022-01-19T04:05:01.807836",
     "status": "completed"
    },
    "tags": []
   },
   "outputs": [],
   "source": [
    "unwanted_cols = ['PassengerId', 'Name', 'Ticket']\n",
    "df.drop(unwanted_cols, axis = 1, inplace= True)\n",
    "test.drop(unwanted_cols, axis = 1, inplace= True)\n",
    "\n",
    "df.drop(['Cabin'], axis = 1, inplace = True)\n",
    "test.drop(['Cabin'], axis = 1, inplace = True)\n",
    "\n"
   ]
  },
  {
   "cell_type": "code",
   "execution_count": 7,
   "id": "b3fbb5a7",
   "metadata": {
    "execution": {
     "iopub.execute_input": "2022-01-19T04:05:01.920876Z",
     "iopub.status.busy": "2022-01-19T04:05:01.920102Z",
     "iopub.status.idle": "2022-01-19T04:05:01.932545Z",
     "shell.execute_reply": "2022-01-19T04:05:01.933202Z",
     "shell.execute_reply.started": "2022-01-19T03:31:49.754772Z"
    },
    "papermill": {
     "duration": 0.051643,
     "end_time": "2022-01-19T04:05:01.933447",
     "exception": false,
     "start_time": "2022-01-19T04:05:01.881804",
     "status": "completed"
    },
    "tags": []
   },
   "outputs": [
    {
     "name": "stderr",
     "output_type": "stream",
     "text": [
      "/opt/conda/lib/python3.7/site-packages/ipykernel_launcher.py:1: FutureWarning: In a future version of pandas all arguments of DataFrame.drop except for the argument 'labels' will be keyword-only\n",
      "  \"\"\"Entry point for launching an IPython kernel.\n"
     ]
    }
   ],
   "source": [
    "X_train, X_test, y_train, y_test = train_test_split(df.drop(['Survived'], 1), df['Survived'], test_size = 0.33, stratify=df.Survived, random_state = 42)\n",
    "X_train.reset_index(inplace= True, drop = True)\n",
    "X_test.reset_index(inplace= True, drop = True)\n",
    "y_train.reset_index(inplace = True, drop = True)\n",
    "y_test.reset_index(inplace = True, drop = True)\n",
    "\n",
    "index_x_trains = X_train.Fare < 300\n",
    "X_train = X_train.loc[index_x_trains]\n",
    "y_train = y_train[index_x_trains]\n",
    "X_train.reset_index(drop = True, inplace = True)\n",
    "y_train.reset_index(drop = True, inplace = True)\n",
    "\n",
    "X_train_hyper = X_train.copy(deep = True)\n",
    "X_test_hyper = X_test.copy(deep = True)"
   ]
  },
  {
   "cell_type": "code",
   "execution_count": 8,
   "id": "6d279c22",
   "metadata": {
    "execution": {
     "iopub.execute_input": "2022-01-19T04:05:01.994227Z",
     "iopub.status.busy": "2022-01-19T04:05:01.993184Z",
     "iopub.status.idle": "2022-01-19T04:05:01.998904Z",
     "shell.execute_reply": "2022-01-19T04:05:01.999525Z",
     "shell.execute_reply.started": "2022-01-19T03:31:56.527791Z"
    },
    "papermill": {
     "duration": 0.039005,
     "end_time": "2022-01-19T04:05:01.999702",
     "exception": false,
     "start_time": "2022-01-19T04:05:01.960697",
     "status": "completed"
    },
    "tags": []
   },
   "outputs": [
    {
     "name": "stderr",
     "output_type": "stream",
     "text": [
      "/opt/conda/lib/python3.7/site-packages/ipykernel_launcher.py:3: FutureWarning: In a future version of pandas all arguments of DataFrame.drop except for the argument 'labels' will be keyword-only\n",
      "  This is separate from the ipykernel package so we can avoid doing imports until\n"
     ]
    }
   ],
   "source": [
    "index_fare_le_300 = df.Fare < 300\n",
    "df = df[index_fare_le_300]\n",
    "df_x = df.drop('Survived', 1)\n",
    "df_y = df.Survived"
   ]
  },
  {
   "cell_type": "code",
   "execution_count": 9,
   "id": "656a62df",
   "metadata": {
    "execution": {
     "iopub.execute_input": "2022-01-19T04:05:02.057773Z",
     "iopub.status.busy": "2022-01-19T04:05:02.056746Z",
     "iopub.status.idle": "2022-01-19T04:05:02.065987Z",
     "shell.execute_reply": "2022-01-19T04:05:02.066689Z",
     "shell.execute_reply.started": "2022-01-19T03:31:58.133844Z"
    },
    "papermill": {
     "duration": 0.040227,
     "end_time": "2022-01-19T04:05:02.066884",
     "exception": false,
     "start_time": "2022-01-19T04:05:02.026657",
     "status": "completed"
    },
    "tags": []
   },
   "outputs": [],
   "source": [
    "skf = StratifiedKFold(n_splits = 5)\n",
    "from sklearn.preprocessing import StandardScaler\n",
    "ss= StandardScaler()\n",
    "\n",
    "mla_cols = ['MLA Name', 'MLA Accuracy1', 'MLA Accuracy2', 'MLA Accuracy3', 'MLA Accuracy4', 'MLA Accuracy5']\n",
    "mla_compare = pd.DataFrame(columns=mla_cols)\n",
    "\n",
    "lr = LogisticRegression()\n",
    "rf = RandomForestClassifier()\n",
    "dt = DecisionTreeClassifier()\n",
    "svc = SVC()\n",
    "gnb = GaussianNB()"
   ]
  },
  {
   "cell_type": "code",
   "execution_count": 10,
   "id": "c6852051",
   "metadata": {
    "execution": {
     "iopub.execute_input": "2022-01-19T04:05:02.128018Z",
     "iopub.status.busy": "2022-01-19T04:05:02.126238Z",
     "iopub.status.idle": "2022-01-19T04:05:02.129730Z",
     "shell.execute_reply": "2022-01-19T04:05:02.130225Z",
     "shell.execute_reply.started": "2022-01-19T03:32:00.734889Z"
    },
    "papermill": {
     "duration": 0.035247,
     "end_time": "2022-01-19T04:05:02.130390",
     "exception": false,
     "start_time": "2022-01-19T04:05:02.095143",
     "status": "completed"
    },
    "tags": []
   },
   "outputs": [],
   "source": [
    "import warnings\n",
    "warnings.filterwarnings('ignore')"
   ]
  },
  {
   "cell_type": "code",
   "execution_count": 11,
   "id": "801b653d",
   "metadata": {
    "execution": {
     "iopub.execute_input": "2022-01-19T04:05:02.190449Z",
     "iopub.status.busy": "2022-01-19T04:05:02.189748Z",
     "iopub.status.idle": "2022-01-19T04:05:20.648942Z",
     "shell.execute_reply": "2022-01-19T04:05:20.648167Z",
     "shell.execute_reply.started": "2022-01-19T03:32:02.589185Z"
    },
    "papermill": {
     "duration": 18.489317,
     "end_time": "2022-01-19T04:05:20.649113",
     "exception": false,
     "start_time": "2022-01-19T04:05:02.159796",
     "status": "completed"
    },
    "tags": []
   },
   "outputs": [],
   "source": [
    "mla_cols = ['MLA Name', 'MLA Accuracy1', 'MLA Accuracy2', 'MLA Accuracy3', 'MLA Accuracy4', 'MLA Accuracy5']\n",
    "mla_compare = pd.DataFrame(columns=mla_cols)\n",
    "i = 1\n",
    "\n",
    "lr = LogisticRegression()\n",
    "rf = RandomForestClassifier()\n",
    "dt = DecisionTreeClassifier()\n",
    "svc = SVC()\n",
    "gnb = GaussianNB()\n",
    "ss= StandardScaler()\n",
    "skf = StratifiedKFold(n_splits = 5)\n",
    "\n",
    "for train_index, test_index in skf.split(X_train, y_train):\n",
    "    X_train_cv = X_train.loc[train_index,]\n",
    "    y_train_cv = y_train[train_index]\n",
    "    X_test_cv = X_train.loc[test_index,]\n",
    "    y_test_cv = y_train[test_index]\n",
    "\n",
    "    X_train_cv, X_test_cv = embarked_missing(X_train_cv, x_test = X_test_cv)\n",
    "    X_train_cv, X_test_cv = age_missing(X_train_cv, x_test= X_test_cv)\n",
    "\n",
    "    x_train_num = pd.get_dummies(X_train_cv, columns=['Embarked', 'Sex'], drop_first = True)\n",
    "    #x_train_num.drop(['Embarked_C', 'Sex_female'], axis = 1, inplace = True)\n",
    "\n",
    "    x_test_num = pd.get_dummies(X_test_cv, columns=['Embarked', 'Sex'], drop_first= True)\n",
    "    #x_test_num.drop(['Embarked_C', 'Sex_female'], axis = 1, inplace = True)\n",
    "\n",
    "    feat = ['Age', 'Fare', 'SibSp', 'Parch']\n",
    "    x_train_scaled = x_train_num.copy(deep = True)\n",
    "    x_train_scaled[feat] = ss.fit_transform(x_train_scaled[feat])\n",
    "\n",
    "    x_test_scaled = x_test_num.copy(deep = True)\n",
    "    x_test_scaled[feat] = ss.fit_transform(x_test_scaled[feat])\n",
    "\n",
    "    lr.fit(x_train_scaled, y_train_cv)\n",
    "    lr_score = lr.score(x_test_scaled, y_test_cv)\n",
    "    mla_compare.loc[0,'MLA Name'] = 'Logistic Regression'\n",
    "    mla_compare.loc[0,f'MLA Accuracy{i}'] = lr_score\n",
    "\n",
    "    rf.fit(x_train_num, y_train_cv)\n",
    "    score_rf = rf.score(x_test_num, y_test_cv)\n",
    "    mla_compare.loc[1,'MLA Name'] = 'Random Forest'\n",
    "    mla_compare.loc[1,f'MLA Accuracy{i}'] = score_rf\n",
    "\n",
    "    dt.fit(x_train_num, y_train_cv)\n",
    "    score_dt = dt.score(x_test_num, y_test_cv)\n",
    "    mla_compare.loc[2,'MLA Name'] = 'Decision Tree'\n",
    "    mla_compare.loc[2,f'MLA Accuracy{i}'] = score_dt\n",
    "\n",
    "    svc.fit(x_train_scaled, y_train_cv)\n",
    "    score_svm= lr.score(x_test_scaled, y_test_cv)\n",
    "    mla_compare.loc[3,'MLA Name'] = 'Support Vector Machine Classifier'\n",
    "    mla_compare.loc[3,f'MLA Accuracy{i}'] = score_svm\n",
    "\n",
    "\n",
    "    gnb.fit(x_train_num, y_train_cv)\n",
    "    score_gnb = gnb.score(x_test_num, y_test_cv)\n",
    "    mla_compare.loc[4,'MLA Name'] = 'Gaussian Naives Bayes'\n",
    "    mla_compare.loc[4,f'MLA Accuracy{i}'] = score_gnb\n",
    "\n",
    "    i += 1\n"
   ]
  },
  {
   "cell_type": "code",
   "execution_count": 12,
   "id": "b9ebc9a2",
   "metadata": {
    "execution": {
     "iopub.execute_input": "2022-01-19T04:05:20.707708Z",
     "iopub.status.busy": "2022-01-19T04:05:20.706731Z",
     "iopub.status.idle": "2022-01-19T04:05:20.724392Z",
     "shell.execute_reply": "2022-01-19T04:05:20.724973Z",
     "shell.execute_reply.started": "2022-01-19T03:32:25.830996Z"
    },
    "papermill": {
     "duration": 0.048812,
     "end_time": "2022-01-19T04:05:20.725153",
     "exception": false,
     "start_time": "2022-01-19T04:05:20.676341",
     "status": "completed"
    },
    "tags": []
   },
   "outputs": [
    {
     "data": {
      "text/html": [
       "<div>\n",
       "<style scoped>\n",
       "    .dataframe tbody tr th:only-of-type {\n",
       "        vertical-align: middle;\n",
       "    }\n",
       "\n",
       "    .dataframe tbody tr th {\n",
       "        vertical-align: top;\n",
       "    }\n",
       "\n",
       "    .dataframe thead th {\n",
       "        text-align: right;\n",
       "    }\n",
       "</style>\n",
       "<table border=\"1\" class=\"dataframe\">\n",
       "  <thead>\n",
       "    <tr style=\"text-align: right;\">\n",
       "      <th></th>\n",
       "      <th>MLA Name</th>\n",
       "      <th>MLA Accuracy1</th>\n",
       "      <th>MLA Accuracy2</th>\n",
       "      <th>MLA Accuracy3</th>\n",
       "      <th>MLA Accuracy4</th>\n",
       "      <th>MLA Accuracy5</th>\n",
       "    </tr>\n",
       "  </thead>\n",
       "  <tbody>\n",
       "    <tr>\n",
       "      <th>0</th>\n",
       "      <td>Logistic Regression</td>\n",
       "      <td>0.781513</td>\n",
       "      <td>0.798319</td>\n",
       "      <td>0.840336</td>\n",
       "      <td>0.789916</td>\n",
       "      <td>0.779661</td>\n",
       "    </tr>\n",
       "    <tr>\n",
       "      <th>1</th>\n",
       "      <td>Random Forest</td>\n",
       "      <td>0.823529</td>\n",
       "      <td>0.815126</td>\n",
       "      <td>0.840336</td>\n",
       "      <td>0.781513</td>\n",
       "      <td>0.79661</td>\n",
       "    </tr>\n",
       "    <tr>\n",
       "      <th>2</th>\n",
       "      <td>Decision Tree</td>\n",
       "      <td>0.773109</td>\n",
       "      <td>0.831933</td>\n",
       "      <td>0.764706</td>\n",
       "      <td>0.714286</td>\n",
       "      <td>0.754237</td>\n",
       "    </tr>\n",
       "    <tr>\n",
       "      <th>3</th>\n",
       "      <td>Support Vector Machine Classifier</td>\n",
       "      <td>0.781513</td>\n",
       "      <td>0.798319</td>\n",
       "      <td>0.840336</td>\n",
       "      <td>0.789916</td>\n",
       "      <td>0.779661</td>\n",
       "    </tr>\n",
       "    <tr>\n",
       "      <th>4</th>\n",
       "      <td>Gaussian Naives Bayes</td>\n",
       "      <td>0.773109</td>\n",
       "      <td>0.756303</td>\n",
       "      <td>0.764706</td>\n",
       "      <td>0.781513</td>\n",
       "      <td>0.762712</td>\n",
       "    </tr>\n",
       "  </tbody>\n",
       "</table>\n",
       "</div>"
      ],
      "text/plain": [
       "                            MLA Name MLA Accuracy1 MLA Accuracy2  \\\n",
       "0                Logistic Regression      0.781513      0.798319   \n",
       "1                      Random Forest      0.823529      0.815126   \n",
       "2                      Decision Tree      0.773109      0.831933   \n",
       "3  Support Vector Machine Classifier      0.781513      0.798319   \n",
       "4              Gaussian Naives Bayes      0.773109      0.756303   \n",
       "\n",
       "  MLA Accuracy3 MLA Accuracy4 MLA Accuracy5  \n",
       "0      0.840336      0.789916      0.779661  \n",
       "1      0.840336      0.781513       0.79661  \n",
       "2      0.764706      0.714286      0.754237  \n",
       "3      0.840336      0.789916      0.779661  \n",
       "4      0.764706      0.781513      0.762712  "
      ]
     },
     "execution_count": 12,
     "metadata": {},
     "output_type": "execute_result"
    }
   ],
   "source": [
    "mla_compare"
   ]
  },
  {
   "cell_type": "code",
   "execution_count": 13,
   "id": "5a528b80",
   "metadata": {
    "execution": {
     "iopub.execute_input": "2022-01-19T04:05:20.784332Z",
     "iopub.status.busy": "2022-01-19T04:05:20.783358Z",
     "iopub.status.idle": "2022-01-19T04:05:24.412534Z",
     "shell.execute_reply": "2022-01-19T04:05:24.413081Z",
     "shell.execute_reply.started": "2022-01-19T03:32:32.791061Z"
    },
    "papermill": {
     "duration": 3.660437,
     "end_time": "2022-01-19T04:05:24.413261",
     "exception": false,
     "start_time": "2022-01-19T04:05:20.752824",
     "status": "completed"
    },
    "tags": []
   },
   "outputs": [],
   "source": [
    "X_train_hyper, X_test_hyper = embarked_missing(X_train_hyper, x_test = X_test_hyper)\n",
    "X_train_hyper, X_test_hyper = age_missing(X_train_hyper, x_test = X_test_hyper)\n",
    "x_train_num = pd.get_dummies(X_train_hyper, columns=['Embarked', 'Sex'], drop_first = True)\n",
    "x_test_num = pd.get_dummies(X_test_hyper, columns=['Embarked', 'Sex'], drop_first= True)"
   ]
  },
  {
   "cell_type": "code",
   "execution_count": 14,
   "id": "577031aa",
   "metadata": {
    "_kg_hide-output": false,
    "execution": {
     "iopub.execute_input": "2022-01-19T04:05:24.474149Z",
     "iopub.status.busy": "2022-01-19T04:05:24.473122Z",
     "iopub.status.idle": "2022-01-19T04:13:24.803191Z",
     "shell.execute_reply": "2022-01-19T04:13:24.803764Z",
     "shell.execute_reply.started": "2022-01-19T03:32:41.733587Z"
    },
    "papermill": {
     "duration": 480.362315,
     "end_time": "2022-01-19T04:13:24.803981",
     "exception": false,
     "start_time": "2022-01-19T04:05:24.441666",
     "status": "completed"
    },
    "scrolled": true,
    "tags": []
   },
   "outputs": [
    {
     "data": {
      "text/plain": [
       "GridSearchCV(cv=5, estimator=RandomForestClassifier(n_jobs=-1),\n",
       "             param_grid=[{'criterion': ['gini', 'entropy'],\n",
       "                          'max_depth': [2, 4, 6, 8, 10, 15, 20, None],\n",
       "                          'n_estimators': [10, 50, 100, 300, 500, 600, 700,\n",
       "                                           800]}],\n",
       "             scoring='accuracy')"
      ]
     },
     "execution_count": 14,
     "metadata": {},
     "output_type": "execute_result"
    }
   ],
   "source": [
    "# hyper parameter tuning\n",
    "params = [{'n_estimators': [10, 50, 100, 300, 500, 600, 700, 800],\n",
    "               'criterion': ['gini', 'entropy'],\n",
    "               'max_depth': [2, 4, 6, 8, 10, 15, 20, None],\n",
    "               #'oob_score': [True]\n",
    "              }]\n",
    "gs_rf = GridSearchCV(estimator = RandomForestClassifier(n_jobs=-1),\n",
    "                     param_grid=params,\n",
    "                     scoring='accuracy',\n",
    "                     cv=5)\n",
    "gs_rf.fit(x_train_num, y_train)"
   ]
  },
  {
   "cell_type": "code",
   "execution_count": 15,
   "id": "eecf84f5",
   "metadata": {
    "execution": {
     "iopub.execute_input": "2022-01-19T04:13:24.863826Z",
     "iopub.status.busy": "2022-01-19T04:13:24.863168Z",
     "iopub.status.idle": "2022-01-19T04:13:24.867800Z",
     "shell.execute_reply": "2022-01-19T04:13:24.868239Z",
     "shell.execute_reply.started": "2022-01-19T00:38:01.725102Z"
    },
    "papermill": {
     "duration": 0.036524,
     "end_time": "2022-01-19T04:13:24.868409",
     "exception": false,
     "start_time": "2022-01-19T04:13:24.831885",
     "status": "completed"
    },
    "tags": []
   },
   "outputs": [],
   "source": [
    "params = [{'C': [0.1,1, 10, 100],\n",
    "              'gamma': [1,0.1,0.01,0.001],\n",
    "              'kernel': ['rbf', 'poly', 'sigmoid']\n",
    "             }]\n",
    "gs_svc = GridSearchCV(estimator = SVC(),\n",
    "                      param_grid=params,\n",
    "                      scoring='accuracy',\n",
    "                      cv=5)\n",
    "#gs_svc.fit(x_train_num, y_train)"
   ]
  },
  {
   "cell_type": "code",
   "execution_count": 16,
   "id": "4b749e0d",
   "metadata": {
    "execution": {
     "iopub.execute_input": "2022-01-19T04:13:24.929266Z",
     "iopub.status.busy": "2022-01-19T04:13:24.928607Z",
     "iopub.status.idle": "2022-01-19T04:13:30.676903Z",
     "shell.execute_reply": "2022-01-19T04:13:30.676343Z",
     "shell.execute_reply.started": "2022-01-19T03:43:19.407944Z"
    },
    "papermill": {
     "duration": 5.780586,
     "end_time": "2022-01-19T04:13:30.677045",
     "exception": false,
     "start_time": "2022-01-19T04:13:24.896459",
     "status": "completed"
    },
    "tags": []
   },
   "outputs": [
    {
     "data": {
      "text/plain": [
       "GridSearchCV(cv=5, estimator=KNeighborsClassifier(n_jobs=-1),\n",
       "             param_grid=[{'metric': ['minkowski', 'euclidean', 'manhattan'],\n",
       "                          'n_neighbors': array([ 5,  6,  7,  8,  9, 10, 11, 12, 13, 14]),\n",
       "                          'weights': ['uniform', 'distance']}],\n",
       "             scoring='accuracy')"
      ]
     },
     "execution_count": 16,
     "metadata": {},
     "output_type": "execute_result"
    }
   ],
   "source": [
    "params = [{'metric' : ['minkowski','euclidean','manhattan'],\n",
    "               'weights' : ['uniform','distance'],\n",
    "               'n_neighbors'  : np.arange(5,15)}]\n",
    "gs_knn = GridSearchCV(estimator = KNeighborsClassifier(n_jobs=-1),\n",
    "                          param_grid=params,\n",
    "                          scoring='accuracy',\n",
    "                          cv=5)\n",
    "gs_knn.fit(x_train_num, y_train)"
   ]
  },
  {
   "cell_type": "code",
   "execution_count": 17,
   "id": "df7f3737",
   "metadata": {
    "execution": {
     "iopub.execute_input": "2022-01-19T04:13:30.740368Z",
     "iopub.status.busy": "2022-01-19T04:13:30.739692Z",
     "iopub.status.idle": "2022-01-19T04:13:30.742862Z",
     "shell.execute_reply": "2022-01-19T04:13:30.742333Z",
     "shell.execute_reply.started": "2022-01-19T03:45:23.445141Z"
    },
    "papermill": {
     "duration": 0.036913,
     "end_time": "2022-01-19T04:13:30.743000",
     "exception": false,
     "start_time": "2022-01-19T04:13:30.706087",
     "status": "completed"
    },
    "tags": []
   },
   "outputs": [
    {
     "data": {
      "text/plain": [
       "{'criterion': 'entropy', 'max_depth': 10, 'n_estimators': 100}"
      ]
     },
     "execution_count": 17,
     "metadata": {},
     "output_type": "execute_result"
    }
   ],
   "source": [
    "gs_rf.best_params_"
   ]
  },
  {
   "cell_type": "code",
   "execution_count": 18,
   "id": "25fcbf6a",
   "metadata": {
    "execution": {
     "iopub.execute_input": "2022-01-19T04:13:30.812391Z",
     "iopub.status.busy": "2022-01-19T04:13:30.811524Z",
     "iopub.status.idle": "2022-01-19T04:13:30.816169Z",
     "shell.execute_reply": "2022-01-19T04:13:30.815606Z",
     "shell.execute_reply.started": "2022-01-19T03:45:25.058606Z"
    },
    "papermill": {
     "duration": 0.044269,
     "end_time": "2022-01-19T04:13:30.816327",
     "exception": false,
     "start_time": "2022-01-19T04:13:30.772058",
     "status": "completed"
    },
    "tags": []
   },
   "outputs": [
    {
     "data": {
      "text/plain": [
       "{'metric': 'manhattan', 'n_neighbors': 9, 'weights': 'distance'}"
      ]
     },
     "execution_count": 18,
     "metadata": {},
     "output_type": "execute_result"
    }
   ],
   "source": [
    "gs_knn.best_params_"
   ]
  },
  {
   "cell_type": "code",
   "execution_count": 19,
   "id": "9b497eb7",
   "metadata": {
    "execution": {
     "iopub.execute_input": "2022-01-19T04:13:30.905319Z",
     "iopub.status.busy": "2022-01-19T04:13:30.888796Z",
     "iopub.status.idle": "2022-01-19T04:13:31.512133Z",
     "shell.execute_reply": "2022-01-19T04:13:31.511592Z",
     "shell.execute_reply.started": "2022-01-16T22:31:50.91727Z"
    },
    "papermill": {
     "duration": 0.662348,
     "end_time": "2022-01-19T04:13:31.512286",
     "exception": false,
     "start_time": "2022-01-19T04:13:30.849938",
     "status": "completed"
    },
    "tags": []
   },
   "outputs": [
    {
     "data": {
      "text/plain": [
       "RandomForestClassifier(max_depth=4, n_estimators=300)"
      ]
     },
     "execution_count": 19,
     "metadata": {},
     "output_type": "execute_result"
    }
   ],
   "source": [
    "rf = RandomForestClassifier(criterion= 'gini', max_depth= 4, n_estimators= 300)\n",
    "rf.fit(x_train_num, y_train)"
   ]
  },
  {
   "cell_type": "code",
   "execution_count": 20,
   "id": "6809101c",
   "metadata": {
    "execution": {
     "iopub.execute_input": "2022-01-19T04:13:31.643566Z",
     "iopub.status.busy": "2022-01-19T04:13:31.642605Z",
     "iopub.status.idle": "2022-01-19T04:13:31.645487Z",
     "shell.execute_reply": "2022-01-19T04:13:31.644948Z",
     "shell.execute_reply.started": "2022-01-19T03:45:38.589040Z"
    },
    "papermill": {
     "duration": 0.037443,
     "end_time": "2022-01-19T04:13:31.645638",
     "exception": false,
     "start_time": "2022-01-19T04:13:31.608195",
     "status": "completed"
    },
    "tags": []
   },
   "outputs": [],
   "source": [
    "rf = RandomForestClassifier(criterion= 'gini', max_depth= 8, n_estimators= 300)\n",
    "knn = KNeighborsClassifier(metric = 'manhattan', n_neighbors= 12, weights = 'distance')"
   ]
  },
  {
   "cell_type": "code",
   "execution_count": 21,
   "id": "9bdedd84",
   "metadata": {
    "execution": {
     "iopub.execute_input": "2022-01-19T04:13:31.717381Z",
     "iopub.status.busy": "2022-01-19T04:13:31.716697Z",
     "iopub.status.idle": "2022-01-19T04:13:52.061557Z",
     "shell.execute_reply": "2022-01-19T04:13:52.062090Z",
     "shell.execute_reply.started": "2022-01-19T03:45:41.866128Z"
    },
    "papermill": {
     "duration": 20.38726,
     "end_time": "2022-01-19T04:13:52.062307",
     "exception": false,
     "start_time": "2022-01-19T04:13:31.675047",
     "status": "completed"
    },
    "tags": []
   },
   "outputs": [],
   "source": [
    "i = 1\n",
    "\n",
    "\n",
    "for train_index, test_index in skf.split(X_train, y_train):\n",
    "    X_train_cv = X_train.loc[train_index,]\n",
    "    y_train_cv = y_train[train_index]\n",
    "    X_test_cv = X_train.loc[test_index,]\n",
    "    y_test_cv = y_train[test_index]\n",
    "\n",
    "    X_train_cv, X_test_cv = embarked_missing(X_train_cv, x_test = X_test_cv)\n",
    "    X_train_cv, X_test_cv = age_missing(X_train_cv, x_test= X_test_cv)\n",
    "\n",
    "    x_train_num = pd.get_dummies(X_train_cv, columns=['Embarked', 'Sex'], drop_first = True)\n",
    "    #x_train_num.drop(['Embarked_C', 'Sex_female'], axis = 1, inplace = True)\n",
    "\n",
    "    x_test_num = pd.get_dummies(X_test_cv, columns=['Embarked', 'Sex'], drop_first= True)\n",
    "    #x_test_num.drop(['Embarked_C', 'Sex_female'], axis = 1, inplace = True)\n",
    "\n",
    "    feat = ['Age', 'Fare', 'SibSp', 'Parch']\n",
    "    x_train_scaled = x_train_num.copy(deep = True)\n",
    "    x_train_scaled[feat] = ss.fit_transform(x_train_scaled[feat])\n",
    "\n",
    "    x_test_scaled = x_test_num.copy(deep = True)\n",
    "    x_test_scaled[feat] = ss.fit_transform(x_test_scaled[feat])\n",
    "\n",
    "    rf.fit(x_train_num, y_train_cv)\n",
    "    score_rf = rf.score(x_test_num, y_test_cv)\n",
    "    mla_compare.loc[5,'MLA Name'] = 'Random Forest GS'\n",
    "    mla_compare.loc[5,f'MLA Accuracy{i}'] = score_rf\n",
    "\n",
    "    knn.fit(x_train_scaled, y_train_cv)\n",
    "    score_knn = knn.score(x_test_num, y_test_cv)\n",
    "    mla_compare.loc[6,'MLA Name'] = 'KNN'\n",
    "    mla_compare.loc[6,f'MLA Accuracy{i}'] = score_knn\n",
    "\n",
    "    i += 1"
   ]
  },
  {
   "cell_type": "code",
   "execution_count": 22,
   "id": "e9e0b0eb",
   "metadata": {
    "execution": {
     "iopub.execute_input": "2022-01-19T04:13:52.128226Z",
     "iopub.status.busy": "2022-01-19T04:13:52.125135Z",
     "iopub.status.idle": "2022-01-19T04:13:52.137796Z",
     "shell.execute_reply": "2022-01-19T04:13:52.138314Z",
     "shell.execute_reply.started": "2022-01-19T03:48:41.602091Z"
    },
    "papermill": {
     "duration": 0.045512,
     "end_time": "2022-01-19T04:13:52.138509",
     "exception": false,
     "start_time": "2022-01-19T04:13:52.092997",
     "status": "completed"
    },
    "tags": []
   },
   "outputs": [
    {
     "data": {
      "text/html": [
       "<div>\n",
       "<style scoped>\n",
       "    .dataframe tbody tr th:only-of-type {\n",
       "        vertical-align: middle;\n",
       "    }\n",
       "\n",
       "    .dataframe tbody tr th {\n",
       "        vertical-align: top;\n",
       "    }\n",
       "\n",
       "    .dataframe thead th {\n",
       "        text-align: right;\n",
       "    }\n",
       "</style>\n",
       "<table border=\"1\" class=\"dataframe\">\n",
       "  <thead>\n",
       "    <tr style=\"text-align: right;\">\n",
       "      <th></th>\n",
       "      <th>MLA Name</th>\n",
       "      <th>MLA Accuracy1</th>\n",
       "      <th>MLA Accuracy2</th>\n",
       "      <th>MLA Accuracy3</th>\n",
       "      <th>MLA Accuracy4</th>\n",
       "      <th>MLA Accuracy5</th>\n",
       "    </tr>\n",
       "  </thead>\n",
       "  <tbody>\n",
       "    <tr>\n",
       "      <th>0</th>\n",
       "      <td>Logistic Regression</td>\n",
       "      <td>0.781513</td>\n",
       "      <td>0.798319</td>\n",
       "      <td>0.840336</td>\n",
       "      <td>0.789916</td>\n",
       "      <td>0.779661</td>\n",
       "    </tr>\n",
       "    <tr>\n",
       "      <th>1</th>\n",
       "      <td>Random Forest</td>\n",
       "      <td>0.823529</td>\n",
       "      <td>0.815126</td>\n",
       "      <td>0.840336</td>\n",
       "      <td>0.781513</td>\n",
       "      <td>0.79661</td>\n",
       "    </tr>\n",
       "    <tr>\n",
       "      <th>2</th>\n",
       "      <td>Decision Tree</td>\n",
       "      <td>0.773109</td>\n",
       "      <td>0.831933</td>\n",
       "      <td>0.764706</td>\n",
       "      <td>0.714286</td>\n",
       "      <td>0.754237</td>\n",
       "    </tr>\n",
       "    <tr>\n",
       "      <th>3</th>\n",
       "      <td>Support Vector Machine Classifier</td>\n",
       "      <td>0.781513</td>\n",
       "      <td>0.798319</td>\n",
       "      <td>0.840336</td>\n",
       "      <td>0.789916</td>\n",
       "      <td>0.779661</td>\n",
       "    </tr>\n",
       "    <tr>\n",
       "      <th>4</th>\n",
       "      <td>Gaussian Naives Bayes</td>\n",
       "      <td>0.773109</td>\n",
       "      <td>0.756303</td>\n",
       "      <td>0.764706</td>\n",
       "      <td>0.781513</td>\n",
       "      <td>0.762712</td>\n",
       "    </tr>\n",
       "    <tr>\n",
       "      <th>5</th>\n",
       "      <td>Random Forest GS</td>\n",
       "      <td>0.823529</td>\n",
       "      <td>0.798319</td>\n",
       "      <td>0.882353</td>\n",
       "      <td>0.798319</td>\n",
       "      <td>0.788136</td>\n",
       "    </tr>\n",
       "    <tr>\n",
       "      <th>6</th>\n",
       "      <td>KNN</td>\n",
       "      <td>0.613445</td>\n",
       "      <td>0.680672</td>\n",
       "      <td>0.747899</td>\n",
       "      <td>0.638655</td>\n",
       "      <td>0.728814</td>\n",
       "    </tr>\n",
       "  </tbody>\n",
       "</table>\n",
       "</div>"
      ],
      "text/plain": [
       "                            MLA Name MLA Accuracy1 MLA Accuracy2  \\\n",
       "0                Logistic Regression      0.781513      0.798319   \n",
       "1                      Random Forest      0.823529      0.815126   \n",
       "2                      Decision Tree      0.773109      0.831933   \n",
       "3  Support Vector Machine Classifier      0.781513      0.798319   \n",
       "4              Gaussian Naives Bayes      0.773109      0.756303   \n",
       "5                   Random Forest GS      0.823529      0.798319   \n",
       "6                                KNN      0.613445      0.680672   \n",
       "\n",
       "  MLA Accuracy3 MLA Accuracy4 MLA Accuracy5  \n",
       "0      0.840336      0.789916      0.779661  \n",
       "1      0.840336      0.781513       0.79661  \n",
       "2      0.764706      0.714286      0.754237  \n",
       "3      0.840336      0.789916      0.779661  \n",
       "4      0.764706      0.781513      0.762712  \n",
       "5      0.882353      0.798319      0.788136  \n",
       "6      0.747899      0.638655      0.728814  "
      ]
     },
     "execution_count": 22,
     "metadata": {},
     "output_type": "execute_result"
    }
   ],
   "source": [
    "mla_compare"
   ]
  },
  {
   "cell_type": "code",
   "execution_count": 23,
   "id": "ae033a21",
   "metadata": {
    "execution": {
     "iopub.execute_input": "2022-01-19T04:13:52.202653Z",
     "iopub.status.busy": "2022-01-19T04:13:52.201931Z",
     "iopub.status.idle": "2022-01-19T04:13:56.411853Z",
     "shell.execute_reply": "2022-01-19T04:13:56.412396Z",
     "shell.execute_reply.started": "2022-01-19T01:10:43.333805Z"
    },
    "papermill": {
     "duration": 4.243516,
     "end_time": "2022-01-19T04:13:56.412610",
     "exception": false,
     "start_time": "2022-01-19T04:13:52.169094",
     "status": "completed"
    },
    "tags": []
   },
   "outputs": [
    {
     "data": {
      "text/plain": [
       "0.8338983050847457"
      ]
     },
     "execution_count": 23,
     "metadata": {},
     "output_type": "execute_result"
    }
   ],
   "source": [
    "#random forest seems to be working best.\n",
    "#testing random forest on test data.\n",
    "rf = RandomForestClassifier(criterion= 'gini', max_depth= 4, n_estimators= 300)\n",
    "#X_train, X_test, y_train, y_test\n",
    "X_train, X_test = embarked_missing(X_train, x_test = X_test)\n",
    "X_train, X_test = age_missing(X_train, x_test = X_test)\n",
    "x_train_num = pd.get_dummies(X_train, columns=['Embarked', 'Sex'], drop_first = True)\n",
    "x_test_num = pd.get_dummies(X_test, columns=['Embarked', 'Sex'], drop_first = True)\n",
    "rf.fit(x_train_num, y_train)\n",
    "rf.score(x_test_num, y_test)"
   ]
  },
  {
   "cell_type": "code",
   "execution_count": 24,
   "id": "4fb1b77e",
   "metadata": {
    "execution": {
     "iopub.execute_input": "2022-01-19T04:13:56.480611Z",
     "iopub.status.busy": "2022-01-19T04:13:56.479926Z",
     "iopub.status.idle": "2022-01-19T04:13:56.495321Z",
     "shell.execute_reply": "2022-01-19T04:13:56.495950Z",
     "shell.execute_reply.started": "2022-01-19T03:48:50.861020Z"
    },
    "papermill": {
     "duration": 0.053075,
     "end_time": "2022-01-19T04:13:56.496128",
     "exception": false,
     "start_time": "2022-01-19T04:13:56.443053",
     "status": "completed"
    },
    "tags": []
   },
   "outputs": [
    {
     "name": "stdout",
     "output_type": "stream",
     "text": [
      "missing values in these columns:\n"
     ]
    },
    {
     "data": {
      "text/html": [
       "<div>\n",
       "<style scoped>\n",
       "    .dataframe tbody tr th:only-of-type {\n",
       "        vertical-align: middle;\n",
       "    }\n",
       "\n",
       "    .dataframe tbody tr th {\n",
       "        vertical-align: top;\n",
       "    }\n",
       "\n",
       "    .dataframe thead th {\n",
       "        text-align: right;\n",
       "    }\n",
       "</style>\n",
       "<table border=\"1\" class=\"dataframe\">\n",
       "  <thead>\n",
       "    <tr style=\"text-align: right;\">\n",
       "      <th></th>\n",
       "      <th>Feature</th>\n",
       "      <th>dtype</th>\n",
       "      <th>Missing Values</th>\n",
       "      <th>%age missing</th>\n",
       "    </tr>\n",
       "  </thead>\n",
       "  <tbody>\n",
       "    <tr>\n",
       "      <th>0</th>\n",
       "      <td>Age</td>\n",
       "      <td>float64</td>\n",
       "      <td>86</td>\n",
       "      <td>0.21</td>\n",
       "    </tr>\n",
       "    <tr>\n",
       "      <th>1</th>\n",
       "      <td>Fare</td>\n",
       "      <td>float64</td>\n",
       "      <td>1</td>\n",
       "      <td>0.00</td>\n",
       "    </tr>\n",
       "  </tbody>\n",
       "</table>\n",
       "</div>"
      ],
      "text/plain": [
       "  Feature    dtype Missing Values  %age missing\n",
       "0     Age  float64             86          0.21\n",
       "1    Fare  float64              1          0.00"
      ]
     },
     "execution_count": 24,
     "metadata": {},
     "output_type": "execute_result"
    }
   ],
   "source": [
    "#checking out the actual test data\n",
    "missing_df(test)"
   ]
  },
  {
   "cell_type": "code",
   "execution_count": 25,
   "id": "a3f9a912",
   "metadata": {
    "execution": {
     "iopub.execute_input": "2022-01-19T04:13:56.576762Z",
     "iopub.status.busy": "2022-01-19T04:13:56.576038Z",
     "iopub.status.idle": "2022-01-19T04:13:56.583807Z",
     "shell.execute_reply": "2022-01-19T04:13:56.584413Z",
     "shell.execute_reply.started": "2022-01-19T03:48:52.990009Z"
    },
    "papermill": {
     "duration": 0.056888,
     "end_time": "2022-01-19T04:13:56.584611",
     "exception": false,
     "start_time": "2022-01-19T04:13:56.527723",
     "status": "completed"
    },
    "tags": []
   },
   "outputs": [
    {
     "name": "stdout",
     "output_type": "stream",
     "text": [
      "missing values in these columns:\n"
     ]
    },
    {
     "data": {
      "text/html": [
       "<div>\n",
       "<style scoped>\n",
       "    .dataframe tbody tr th:only-of-type {\n",
       "        vertical-align: middle;\n",
       "    }\n",
       "\n",
       "    .dataframe tbody tr th {\n",
       "        vertical-align: top;\n",
       "    }\n",
       "\n",
       "    .dataframe thead th {\n",
       "        text-align: right;\n",
       "    }\n",
       "</style>\n",
       "<table border=\"1\" class=\"dataframe\">\n",
       "  <thead>\n",
       "    <tr style=\"text-align: right;\">\n",
       "      <th></th>\n",
       "      <th>Feature</th>\n",
       "      <th>dtype</th>\n",
       "      <th>Missing Values</th>\n",
       "      <th>%age missing</th>\n",
       "    </tr>\n",
       "  </thead>\n",
       "  <tbody>\n",
       "    <tr>\n",
       "      <th>0</th>\n",
       "      <td>Age</td>\n",
       "      <td>float64</td>\n",
       "      <td>177</td>\n",
       "      <td>0.2</td>\n",
       "    </tr>\n",
       "    <tr>\n",
       "      <th>1</th>\n",
       "      <td>Embarked</td>\n",
       "      <td>object</td>\n",
       "      <td>2</td>\n",
       "      <td>0.0</td>\n",
       "    </tr>\n",
       "  </tbody>\n",
       "</table>\n",
       "</div>"
      ],
      "text/plain": [
       "    Feature    dtype Missing Values  %age missing\n",
       "0       Age  float64            177           0.2\n",
       "1  Embarked   object              2           0.0"
      ]
     },
     "execution_count": 25,
     "metadata": {},
     "output_type": "execute_result"
    }
   ],
   "source": [
    "missing_df(df_x)"
   ]
  },
  {
   "cell_type": "code",
   "execution_count": 26,
   "id": "ddb44984",
   "metadata": {
    "execution": {
     "iopub.execute_input": "2022-01-19T04:13:56.661228Z",
     "iopub.status.busy": "2022-01-19T04:13:56.652962Z",
     "iopub.status.idle": "2022-01-19T04:13:56.664177Z",
     "shell.execute_reply": "2022-01-19T04:13:56.663624Z",
     "shell.execute_reply.started": "2022-01-19T03:48:54.859550Z"
    },
    "papermill": {
     "duration": 0.046809,
     "end_time": "2022-01-19T04:13:56.664323",
     "exception": false,
     "start_time": "2022-01-19T04:13:56.617514",
     "status": "completed"
    },
    "tags": []
   },
   "outputs": [],
   "source": [
    "def fare_missing(x_train, x_test):\n",
    "\n",
    "    x_train['age_grp'] = x_train.apply(age_class, axis = 1)\n",
    "    #x_train['fare_grp'] = x_train.apply(fare_seg, axis = 1)\n",
    "\n",
    "    try:\n",
    "        x_test['age_grp'] = x_test.apply(age_class, axis = 1)\n",
    "        #x_test['fare_grp'] = x_test.apply(fare_seg, axis = 1)\n",
    "\n",
    "        miss_val = x_test[x_test.Fare.isnull()]  #now filling values in test dataset\n",
    "\n",
    "        for i in miss_val.index:\n",
    "            x = x_train[(x_train.Sex == miss_val.loc[i,'Sex']) &  #sex\n",
    "                    (x_train.Pclass == miss_val.loc[i,'Pclass']) &  #plcass\n",
    "                    (x_train.age_grp == miss_val.loc[i,'age_grp']) &\n",
    "                    (x_train.Embarked == miss_val.loc[i,'Embarked'])].Fare.mean()\n",
    "            x_test.loc[i,'Fare'] = x\n",
    "        \n",
    "        x_test.drop(['age_grp'], axis = 1, inplace = True)\n",
    "        \n",
    "    except:\n",
    "        pass\n",
    "    '''    \n",
    "    miss_val = x_train[x_train.Embarked.isnull()]  #assigning x_train missing indices\n",
    "\n",
    "    for i in miss_val.index:\n",
    "        x = x_train[(x_train.Sex == miss_val.loc[i,'Sex']) &  #sex\n",
    "                (x_train.Pclass == miss_val.loc[i,'Pclass']) &  #plcass\n",
    "                (x_train.fare_grp == miss_val.loc[i,'fare_grp'])].Embarked.mode() #same fare segment\n",
    "        x_train.loc[i,'Embarked'] = x[0]\n",
    "        \n",
    "    x_train.drop(['age_grp', 'fare_grp'], axis = 1, inplace = True)\n",
    "    '''\n",
    "    x_train.drop(['age_grp'], axis = 1, inplace = True)\n",
    "    return x_test"
   ]
  },
  {
   "cell_type": "code",
   "execution_count": 27,
   "id": "c405754c",
   "metadata": {
    "execution": {
     "iopub.execute_input": "2022-01-19T04:13:56.732720Z",
     "iopub.status.busy": "2022-01-19T04:13:56.731978Z",
     "iopub.status.idle": "2022-01-19T04:14:00.896768Z",
     "shell.execute_reply": "2022-01-19T04:14:00.897259Z",
     "shell.execute_reply.started": "2022-01-19T03:49:01.791468Z"
    },
    "papermill": {
     "duration": 4.200615,
     "end_time": "2022-01-19T04:14:00.897457",
     "exception": false,
     "start_time": "2022-01-19T04:13:56.696842",
     "status": "completed"
    },
    "tags": []
   },
   "outputs": [
    {
     "name": "stdout",
     "output_type": "stream",
     "text": [
      "missing values in these columns:\n",
      "Empty DataFrame\n",
      "Columns: [Feature, dtype, Missing Values, %age missing]\n",
      "Index: []\n",
      "************************************************************************************************************************\n",
      "missing values in these columns:\n",
      "Empty DataFrame\n",
      "Columns: [Feature, dtype, Missing Values, %age missing]\n",
      "Index: []\n"
     ]
    }
   ],
   "source": [
    "df_x,_ = embarked_missing(x_train = df_x)\n",
    "test = fare_missing(df_x, test)\n",
    "df_x, test = age_missing(df_x, test)\n",
    "\n",
    "print(missing_df(test))\n",
    "\n",
    "print(\"***\"*40)\n",
    "print(missing_df(df_x))"
   ]
  },
  {
   "cell_type": "code",
   "execution_count": 28,
   "id": "ee3e95ae",
   "metadata": {
    "execution": {
     "iopub.execute_input": "2022-01-19T04:14:00.965933Z",
     "iopub.status.busy": "2022-01-19T04:14:00.965285Z",
     "iopub.status.idle": "2022-01-19T04:14:01.606167Z",
     "shell.execute_reply": "2022-01-19T04:14:01.606722Z",
     "shell.execute_reply.started": "2022-01-19T04:00:34.642202Z"
    },
    "papermill": {
     "duration": 0.676854,
     "end_time": "2022-01-19T04:14:01.606907",
     "exception": false,
     "start_time": "2022-01-19T04:14:00.930053",
     "status": "completed"
    },
    "tags": []
   },
   "outputs": [],
   "source": [
    "df_x_num = pd.get_dummies(df_x, columns=['Embarked', 'Sex'], drop_first = True)\n",
    "test_num = pd.get_dummies(test, columns=['Embarked', 'Sex'], drop_first = True)\n",
    "rf.fit(df_x_num, df_y)\n",
    "predictions = rf.predict(test_num)\n"
   ]
  },
  {
   "cell_type": "code",
   "execution_count": 29,
   "id": "a016c370",
   "metadata": {
    "execution": {
     "iopub.execute_input": "2022-01-19T04:14:01.675327Z",
     "iopub.status.busy": "2022-01-19T04:14:01.674691Z",
     "iopub.status.idle": "2022-01-19T04:14:01.680865Z",
     "shell.execute_reply": "2022-01-19T04:14:01.680308Z",
     "shell.execute_reply.started": "2022-01-19T04:01:24.564026Z"
    },
    "papermill": {
     "duration": 0.041355,
     "end_time": "2022-01-19T04:14:01.681016",
     "exception": false,
     "start_time": "2022-01-19T04:14:01.639661",
     "status": "completed"
    },
    "tags": []
   },
   "outputs": [
    {
     "data": {
      "text/plain": [
       "Index(['Pclass', 'Sex', 'Age', 'SibSp', 'Parch', 'Fare', 'Embarked'], dtype='object')"
      ]
     },
     "execution_count": 29,
     "metadata": {},
     "output_type": "execute_result"
    }
   ],
   "source": [
    "test.columns"
   ]
  },
  {
   "cell_type": "code",
   "execution_count": 30,
   "id": "4590ac58",
   "metadata": {
    "execution": {
     "iopub.execute_input": "2022-01-19T04:14:01.751969Z",
     "iopub.status.busy": "2022-01-19T04:14:01.751028Z",
     "iopub.status.idle": "2022-01-19T04:14:01.761850Z",
     "shell.execute_reply": "2022-01-19T04:14:01.762340Z",
     "shell.execute_reply.started": "2022-01-19T04:02:02.845051Z"
    },
    "papermill": {
     "duration": 0.047613,
     "end_time": "2022-01-19T04:14:01.762522",
     "exception": false,
     "start_time": "2022-01-19T04:14:01.714909",
     "status": "completed"
    },
    "tags": []
   },
   "outputs": [
    {
     "data": {
      "text/html": [
       "<div>\n",
       "<style scoped>\n",
       "    .dataframe tbody tr th:only-of-type {\n",
       "        vertical-align: middle;\n",
       "    }\n",
       "\n",
       "    .dataframe tbody tr th {\n",
       "        vertical-align: top;\n",
       "    }\n",
       "\n",
       "    .dataframe thead th {\n",
       "        text-align: right;\n",
       "    }\n",
       "</style>\n",
       "<table border=\"1\" class=\"dataframe\">\n",
       "  <thead>\n",
       "    <tr style=\"text-align: right;\">\n",
       "      <th></th>\n",
       "      <th>PassengerId</th>\n",
       "      <th>Survived</th>\n",
       "    </tr>\n",
       "  </thead>\n",
       "  <tbody>\n",
       "    <tr>\n",
       "      <th>0</th>\n",
       "      <td>892</td>\n",
       "      <td>0</td>\n",
       "    </tr>\n",
       "    <tr>\n",
       "      <th>1</th>\n",
       "      <td>893</td>\n",
       "      <td>0</td>\n",
       "    </tr>\n",
       "    <tr>\n",
       "      <th>2</th>\n",
       "      <td>894</td>\n",
       "      <td>0</td>\n",
       "    </tr>\n",
       "    <tr>\n",
       "      <th>3</th>\n",
       "      <td>895</td>\n",
       "      <td>0</td>\n",
       "    </tr>\n",
       "    <tr>\n",
       "      <th>4</th>\n",
       "      <td>896</td>\n",
       "      <td>1</td>\n",
       "    </tr>\n",
       "  </tbody>\n",
       "</table>\n",
       "</div>"
      ],
      "text/plain": [
       "   PassengerId  Survived\n",
       "0          892         0\n",
       "1          893         0\n",
       "2          894         0\n",
       "3          895         0\n",
       "4          896         1"
      ]
     },
     "execution_count": 30,
     "metadata": {},
     "output_type": "execute_result"
    }
   ],
   "source": [
    "submission = pd.DataFrame()\n",
    "submission['PassengerId'] = test1['PassengerId']\n",
    "submission['Survived'] = predictions # our model predictions on the test dataset\n",
    "submission.head()\n"
   ]
  },
  {
   "cell_type": "code",
   "execution_count": 31,
   "id": "3f7b8225",
   "metadata": {
    "execution": {
     "iopub.execute_input": "2022-01-19T04:14:01.832305Z",
     "iopub.status.busy": "2022-01-19T04:14:01.831309Z",
     "iopub.status.idle": "2022-01-19T04:14:01.838935Z",
     "shell.execute_reply": "2022-01-19T04:14:01.839391Z",
     "shell.execute_reply.started": "2022-01-19T04:02:49.192493Z"
    },
    "papermill": {
     "duration": 0.044059,
     "end_time": "2022-01-19T04:14:01.839589",
     "exception": false,
     "start_time": "2022-01-19T04:14:01.795530",
     "status": "completed"
    },
    "tags": []
   },
   "outputs": [],
   "source": [
    "submission.to_csv('../submission.csv', index=False)"
   ]
  }
 ],
 "metadata": {
  "kernelspec": {
   "display_name": "Python 3",
   "language": "python",
   "name": "python3"
  },
  "language_info": {
   "codemirror_mode": {
    "name": "ipython",
    "version": 3
   },
   "file_extension": ".py",
   "mimetype": "text/x-python",
   "name": "python",
   "nbconvert_exporter": "python",
   "pygments_lexer": "ipython3",
   "version": "3.7.10"
  },
  "papermill": {
   "default_parameters": {},
   "duration": 552.26908,
   "end_time": "2022-01-19T04:14:02.687983",
   "environment_variables": {},
   "exception": null,
   "input_path": "__notebook__.ipynb",
   "output_path": "__notebook__.ipynb",
   "parameters": {},
   "start_time": "2022-01-19T04:04:50.418903",
   "version": "2.3.3"
  }
 },
 "nbformat": 4,
 "nbformat_minor": 5
}
